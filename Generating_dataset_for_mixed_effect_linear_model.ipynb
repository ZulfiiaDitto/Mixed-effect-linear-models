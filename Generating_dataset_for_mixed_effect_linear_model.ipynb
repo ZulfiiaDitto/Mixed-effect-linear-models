{
  "nbformat": 4,
  "nbformat_minor": 0,
  "metadata": {
    "colab": {
      "provenance": [],
      "mount_file_id": "1vaBxZwHd_wd9BV9gTTon_pBxLjDH5tB9",
      "authorship_tag": "ABX9TyMBjcNIfIFSrVwGxmPKOJfu",
      "include_colab_link": true
    },
    "kernelspec": {
      "name": "python3",
      "display_name": "Python 3"
    },
    "language_info": {
      "name": "python"
    }
  },
  "cells": [
    {
      "cell_type": "markdown",
      "metadata": {
        "id": "view-in-github",
        "colab_type": "text"
      },
      "source": [
        "<a href=\"https://colab.research.google.com/github/ZulfiiaDitto/Mixed-effect-linear-models/blob/main/Generating_dataset_for_mixed_effect_linear_model.ipynb\" target=\"_parent\"><img src=\"https://colab.research.google.com/assets/colab-badge.svg\" alt=\"Open In Colab\"/></a>"
      ]
    },
    {
      "cell_type": "markdown",
      "source": [
        "### Creating the fake dataset for mixed effect regressions."
      ],
      "metadata": {
        "id": "gMpjAW4JfVhf"
      }
    },
    {
      "cell_type": "code",
      "source": [
        "import pandas as pd\n",
        "import numpy as np\n",
        "\n",
        "# Seed for reproducibility\n",
        "np.random.seed(42)\n",
        "\n",
        "# Constants\n",
        "num_patients = 50\n",
        "measure_types = [\"Blood Pressure\", \"Pulse\", \"Respiratory Rate\"]\n",
        "place_types = [\"Clinic\", \"Home\"]\n",
        "genders = [\"Female\", \"Male\"]\n",
        "ages = np.random.randint(18, 68, size=num_patients)\n",
        "\n",
        "# Value ranges for each measure type\n",
        "clinic_ranges = {\n",
        "    \"Blood Pressure\": (140, 180),\n",
        "    \"Pulse\": (90, 110),\n",
        "    \"Respiratory Rate\": (22, 30)\n",
        "}\n",
        "home_ranges = {\n",
        "    \"Blood Pressure\": (120, 135),\n",
        "    \"Pulse\": (70, 85),\n",
        "    \"Respiratory Rate\": (15, 21)\n",
        "}\n",
        "\n",
        "# Gaussian noise parameters\n",
        "noise_sd_clinic = 5\n",
        "noise_sd_home = 3\n",
        "\n",
        "# Data generation with increased variability\n",
        "data = []\n",
        "patient_ids = np.random.randint(1000, 1050, size=num_patients)\n",
        "\n",
        "for patient_id, age, gender in zip(patient_ids, ages, np.random.choice(genders, size=num_patients)):\n",
        "    # Select at least two different measures for every patient\n",
        "    selected_measures = np.random.choice(measure_types, size=2, replace=False)\n",
        "\n",
        "    # Random patient-specific baseline shift for variability\n",
        "    patient_shift = np.random.uniform(-5, 5)\n",
        "\n",
        "    for measure_type in selected_measures:\n",
        "        for place in [\"Clinic\", \"Home\"]:\n",
        "            # Add multiple repetitions for each measure\n",
        "            repetitions = np.random.randint(2, 4)  # 2 to 3 repetitions per measure\n",
        "            for _ in range(repetitions):\n",
        "                value_range = clinic_ranges[measure_type] if place == \"Clinic\" else home_ranges[measure_type]\n",
        "                base_value = np.random.randint(value_range[0], value_range[1] + 1)\n",
        "\n",
        "                # Add variability through patient shift and Gaussian noise\n",
        "                noise = np.random.normal(0, noise_sd_clinic if place == \"Clinic\" else noise_sd_home)\n",
        "                value = int(base_value + patient_shift + noise)\n",
        "\n",
        "                # Ensure realistic limits for values\n",
        "                value = max(0, value)\n",
        "\n",
        "                data.append([patient_id, age, gender, measure_type, place, value])\n",
        "\n",
        "# Create DataFrame\n",
        "columns = [\"Patient ID\", \"Age\", \"Gender\", \"Measure Type\", \"Place\", \"Value\"]\n",
        "df = pd.DataFrame(data, columns=columns)"
      ],
      "metadata": {
        "id": "R4Mfxzw3etn3"
      },
      "execution_count": null,
      "outputs": []
    },
    {
      "cell_type": "code",
      "source": [],
      "metadata": {
        "id": "0x-U5TUfD01d"
      },
      "execution_count": null,
      "outputs": []
    },
    {
      "cell_type": "code",
      "source": [
        "# if you use Colab, before saving - mouth your drive and define the directory where to save\n",
        "df.to_csv(\"patients_measurments.csv\", index=False)\n"
      ],
      "metadata": {
        "id": "63VsovPvetl3"
      },
      "execution_count": null,
      "outputs": []
    }
  ]
}